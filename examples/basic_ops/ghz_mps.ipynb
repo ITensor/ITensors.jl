{
 "cells": [
  {
   "cell_type": "markdown",
   "id": "3fe90b57-60d0-4e50-872a-d54cadf12c45",
   "metadata": {},
   "source": [
    "# GHZ state in MPS form\n",
    "created by Viet Tran(v.thuongt@googlemail.com)"
   ]
  },
  {
   "cell_type": "code",
   "execution_count": 1,
   "id": "e95a59dd-c0b2-42bc-b1da-31fc968f6e7b",
   "metadata": {},
   "outputs": [],
   "source": [
    "using ITensors\n",
    "using LinearAlgebra\n",
    "using ITensorUnicodePlots\n"
   ]
  },
  {
   "cell_type": "markdown",
   "id": "d044f5d8-9683-4f12-ac6a-1db9308587eb",
   "metadata": {},
   "source": [
    "We will now construct an MPS representation of the GHZ state for 4 qubits. Initially, we will express the ket vector in the computation basis. Then, we will transform the GHZ state into a tensor product representation using matrices. The MPS will be explicitly generated in ITensor, and we will contrast this approach with an alternative method that relies on bra-ket notation in ITensor. Finally, we will validate our approaches by converting the MPS into a vector and comparing it with the original ket vector in the computational basis."
   ]
  },
  {
   "cell_type": "markdown",
   "id": "6a429216-df18-44d8-bb04-8588aa3f8e07",
   "metadata": {},
   "source": [
    "## GHZ in computational basis representation\n",
    "\n",
    "The GHZ state is a famous quantum state with interesting entanglement properties which however are not the focus of this notebook. The general form is as follows\n",
    "$$\n",
    "|\\mathrm{GHZ}\\rangle = \\frac{|0\\rangle^{\\otimes M} + |1\\rangle^{\\otimes M}}{\\sqrt{2}}.\n",
    "$$\n",
    "In our example we will just consider the unnormalized 4 qubit GHZ state $|\\mathrm{GHZ}\\rangle = |0000\\rangle+ |1111\\rangle$ but everything can be easily extended to higher number of qubits. We will use the usual compuational basis representation and will represent $|0\\rangle := \\begin{pmatrix} 1 \\\\ 0 \\end{pmatrix}$ and $|1\\rangle := \\begin{pmatrix} 0 \\\\ 1 \\end{pmatrix}$. \n",
    "\n",
    "To represent the 4-qubit system we will have to compute the tensor products:\n",
    "\n",
    "$$|0000\\rangle = |0\\rangle \\otimes |0\\rangle \\otimes |0\\rangle \\otimes |0\\rangle = \\begin{pmatrix} 1 \\\\ 0 \\\\ \\vdots \\\\ 0 \\end{pmatrix} \\in \\mathbb{C}^{16}$$\n",
    "\n",
    "$$|1111\\rangle = |1\\rangle \\otimes |1\\rangle \\otimes |1\\rangle \\otimes |1\\rangle = \\begin{pmatrix} 0 \\\\ \\vdots \\\\ 0 \\\\ 1 \\end{pmatrix} \\in \\mathbb{C}^{16}$$\n",
    "\n",
    "Thus we can write the GHZ state as:\n",
    "$$|\\mathrm{GHZ}\\rangle =  \\begin{pmatrix} 1 \\\\ 0 \\\\ \\vdots \\\\ 0 \\\\ 1 \\end{pmatrix} \\in \\mathbb{C}^{16} $$\n",
    "\n"
   ]
  },
  {
   "cell_type": "markdown",
   "id": "a1a84720-1cd9-4667-95c5-835f47a83263",
   "metadata": {},
   "source": [
    "## Explicit MPS construction"
   ]
  },
  {
   "cell_type": "markdown",
   "id": "78fb747b-7b38-4cb8-910c-a219e98246d0",
   "metadata": {},
   "source": [
    "First we will prepare the 4 qubit sites and create a random mps which we will overwrite with our own tensors."
   ]
  },
  {
   "cell_type": "code",
   "execution_count": 2,
   "id": "19da463a-4ec0-435a-87ac-dc4e699e9af6",
   "metadata": {},
   "outputs": [
    {
     "name": "stdout",
     "output_type": "stream",
     "text": [
      "s = Index{Int64}[(dim=2|id=896|\"Qubit,Site,n=1\"), (dim=2|id=527|\"Qubit,Site,n=2\"), (dim=2|id=900|\"Qubit,Site,n=3\"), (dim=2|id=492|\"Qubit,Site,n=4\")]\n"
     ]
    },
    {
     "data": {
      "text/plain": [
       "4-element Vector{Index{Int64}}:\n",
       " (dim=2|id=896|\"Qubit,Site,n=1\")\n",
       " (dim=2|id=527|\"Qubit,Site,n=2\")\n",
       " (dim=2|id=900|\"Qubit,Site,n=3\")\n",
       " (dim=2|id=492|\"Qubit,Site,n=4\")"
      ]
     },
     "execution_count": 2,
     "metadata": {},
     "output_type": "execute_result"
    }
   ],
   "source": [
    "n = 4\n",
    "s = siteinds(\"Qubit\",n)\n",
    "@show s"
   ]
  },
  {
   "cell_type": "code",
   "execution_count": 3,
   "id": "016aa1e7-5e8d-4744-b283-80598f494b86",
   "metadata": {},
   "outputs": [
    {
     "data": {
      "text/plain": [
       "MPS\n",
       "[1] ((dim=2|id=896|\"Qubit,Site,n=1\"), (dim=2|id=872|\"Link,l=1\"))\n",
       "[2] ((dim=2|id=872|\"Link,l=1\"), (dim=2|id=527|\"Qubit,Site,n=2\"), (dim=2|id=529|\"Link,l=2\"))\n",
       "[3] ((dim=2|id=529|\"Link,l=2\"), (dim=2|id=900|\"Qubit,Site,n=3\"), (dim=2|id=702|\"Link,l=3\"))\n",
       "[4] ((dim=2|id=702|\"Link,l=3\"), (dim=2|id=492|\"Qubit,Site,n=4\"))\n"
      ]
     },
     "execution_count": 3,
     "metadata": {},
     "output_type": "execute_result"
    }
   ],
   "source": [
    "# create the random mps to have physical site indices and virtual link inidces in place\n",
    "mps = randomMPS(s, linkdims=2)"
   ]
  },
  {
   "attachments": {
    "3d4ab42c-347d-4b40-a7e8-9b5d121f1388.png": {
     "image/png": "[encoded data removed]"
    }
   },
   "cell_type": "markdown",
   "id": "122900ff-a0cc-4188-969d-90cb2f9acb81",
   "metadata": {},
   "source": [
    "See the [Wikipedia entry](https://en.wikipedia.org/wiki/Matrix_product_state#Greenberger%E2%80%93Horne%E2%80%93Zeilinger_state) for the MPS form of the GHZ state. We will derive this form following [theses lecture notes p.19](https://tu-dresden.de/mn/physik/itp/ket/ressourcen/dateien/teach_folder/ss2021/skript/Lecture4.pdf?lang=en)\n",
    "\n",
    "$$\n",
    "\\begin{aligned}\n",
    "|\\mathrm{GHZ}\\rangle &= |0000\\rangle + |1111\\rangle \\\\\n",
    "&= |\\begin{pmatrix} |0\\rangle_1 & |1\\rangle_1 \\end{pmatrix} \\begin{pmatrix} |0\\rangle_2 & 0 \\\\ 0 & |1\\rangle_2 \\end{pmatrix}  \\begin{pmatrix} |0\\rangle_3 & 0 \\\\ 0 & |1\\rangle_3 \\end{pmatrix} \\begin{pmatrix} |0\\rangle_4 \\\\ |1\\rangle_4 \\end{pmatrix}\n",
    "\\end{aligned}\n",
    "$$ \n",
    "Note that the product of ket vectors is shorthand for the tensorproduct. In this form we can see the 4 tensors for the 4 qubit sites. If we define the MPS form as usual: \n",
    "$$|\\mathrm{GHZ}\\rangle = \\sum_{s_1 \\dots s_4} A^{s_1}A^{s_2}A^{s_3}A^{s_4}|s_1 s_2 s_3 s_4 \\rangle $$\n",
    "\n",
    "We can write the first site tensor $A^{s_1}$ as follows:\n",
    "$$A^{s_1=0} = \\begin{pmatrix} 1 & 0 \\end{pmatrix} \\quad\\text{and}\\quad A^{s_1=1} = \\begin{pmatrix} 0 & 1 \\end{pmatrix}.$$\n",
    "Here $A^{s_1=0}$ and $A^{s_1=1}$ are the slices of the first site tensor $A^{s_1}$ for when the physical site index $s_1$ is either 0 or 1:\n",
    "<div style=\"margin-left:auto; margin-right:auto; width:300px;\">\n",
    "<img src=\"attachment:3d4ab42c-347d-4b40-a7e8-9b5d121f1388.png\" width=\"300\">\n",
    "</div>\n",
    "\n",
    "Analogously we rewrite the last site tensor $A^{s_4}$ as follows:\n",
    "$$A^{s_4=0} = \\begin{pmatrix} 1 \\\\ 0 \\end{pmatrix} \\quad\\text{and}\\quad A^{s_4=1} = \\begin{pmatrix} 0 \\\\ 1 \\end{pmatrix}.$$\n",
    "\n",
    "For sites $s_2$ and $s_3$ the slices have the shape as given in wikipedia:\n",
    "$$A^{s_i=0} = \\begin{pmatrix} 1 & 0\\\\ 0 & 0 \\end{pmatrix} \\quad \\text{and} \\quad A^{s_i=1} = \\begin{pmatrix} 0 & 0\\\\ 0 & 1 \\end{pmatrix}, \\quad \\text{for}\\quad i=2,3$$\n",
    "\n",
    "We can quickly check the coefficient of the state $|0000\\rangle = |s_1=0, s_2=0, s_3=0, s_4=0\\rangle$ which would be $$A^{s_1=0} A^{s_2=0} A^{s_3=0} A^{s_4=0} =  \\begin{pmatrix} 1 & 0 \\end{pmatrix} \\begin{pmatrix} 1 & 0 \\\\ 0 & 0 \\end{pmatrix} \\begin{pmatrix} 1 & 0 \\\\ 0 & 0 \\end{pmatrix} \\begin{pmatrix} 1 \\\\ 0 \\end{pmatrix} = 1 .$$ \n",
    "Equally we can check that all other combinations of $s_1 \\dots s_4$ will result in a 0 coefficient except for $|1111\\rangle$. Thus we correctly found a MPS representation for the 4 qubit GHZ state. "
   ]
  },
  {
   "cell_type": "code",
   "execution_count": 4,
   "id": "2af60984-3ba8-4f8c-bacd-57e39d91d9d6",
   "metadata": {},
   "outputs": [
    {
     "name": "stdout",
     "output_type": "stream",
     "text": [
      "mps[1] = ITensor ord=2\n",
      "Dim 1: (dim=2|id=896|\"Qubit,Site,n=1\")\n",
      "Dim 2: (dim=2|id=872|\"Link,l=1\")\n",
      "NDTensors.Dense{Float64, Vector{Float64}}\n",
      " 2×2\n",
      " 0.3285646051280804   -0.8273833955424125\n",
      " 0.36571917438952145   0.2715354535260242\n",
      "mps[4] = ITensor ord=2\n",
      "Dim 1: (dim=2|id=702|\"Link,l=3\")\n",
      "Dim 2: (dim=2|id=492|\"Qubit,Site,n=4\")\n",
      "NDTensors.Dense{Float64, Vector{Float64}}\n",
      " 2×2\n",
      " 0.5801894243103987  -0.8144815724854482\n",
      " 0.8144815724854482   0.5801894243103985\n"
     ]
    }
   ],
   "source": [
    "# for MPS form GHZ state see https://en.wikipedia.org/wiki/Matrix_product_state#Greenberger%E2%80%93Horne%E2%80%93Zeilinger_state \n",
    "# A0 = [1 0; 0 0]\n",
    "# A1 = [0 0; 0 1]\n",
    "# matrices A0 and A1 are slices of the tensor at site 2,...,N-1\n",
    "# tensor at site 1 is 1x2x2  and contains [1 0] and [0 1]\n",
    "# tensor at site N is 2x1x1 and contains [1; 0] and [0; 1]\n",
    "\n",
    "\n",
    "@show mps[1] # tensor at site 1 gives ITensor ord=2 (dim=2|id=697|\"Qubit,Site,n=1\") (dim=2|id=843|\"Link,l=1\")\n",
    "# thus create tensor at site 1, with physical index first then link index\n",
    "T1 = ITensor([1 0; 0 1], inds(mps[1])) # inds(mps[1]) gets the physical and link index of the tensor at site 1\n",
    "mps[1] = T1 # replace tensor at site 1 with T1\n",
    "\n",
    "\n",
    "@show mps[4] # tensor at site 4 gives ITensor ord=2 (dim=2|id=56|\"Link,l=3\") (dim=2|id=19|\"Qubit,Site,n=4\")\n",
    "# thus create tensor at site N, with link index first then physical index\n",
    "TN = ITensor([1 0; 0 1], inds(mps[end])) # inds(mps[end]) gets the physical and link index of the tensor at site N\n",
    "mps[end] = TN # replace tensor at site N with TN\n",
    "\n",
    "\n",
    "# for inbetween tensors we set them to tensor with A1 and A0 slices\n",
    "Tk = zeros(Float64, 2, 2, 2) # 2x2x2 tensor\n",
    "# indices of inbetween tensors are link, site, link\n",
    "Tk[:,1,:] = [1 0; 0 0] # A0 slice\n",
    "Tk[:,2,:] = [0 0; 0 1] # A1 slice\n",
    "for site in range(2, stop=n-1)\n",
    "    mps[site] = ITensor(Tk, inds(mps[site])) # inds(mps[site]) gets the physical and link index of the tensor at site site\n",
    "end"
   ]
  },
  {
   "cell_type": "code",
   "execution_count": 5,
   "id": "3efad472-ad34-4eec-a533-2b91c1a22aa4",
   "metadata": {},
   "outputs": [
    {
     "name": "stdout",
     "output_type": "stream",
     "text": [
      "--------------------------------------------------------------------------------\n",
      "MPS form of GHZ state\n",
      "--------------------------------------------------------------------------------\n"
     ]
    },
    {
     "data": {
      "text/plain": [
       "    \u001b[38;5;8m⠀⠀⠀⠀⠀⠀⠀⠀⠀⠀⠀⠀⠀⠀⠀⠀⠀⠀⠀⠀⠀⠀⠀⠀⠀⠀⠀⠀⠀⠀⠀⠀⠀⠀⠀⠀⠀⠀⠀⠀⠀⠀⠀⠀⠀⠀⠀⠀⠀⠀⠀⠀\u001b[0m\n",
       "    \u001b[38;5;8m⠀\u001b[0m⠀⠀⠀⠀⠀⠀⠀⠀⠀⠀⠀⠀⠀⠀⠀⠀⠀⠀⠀⠀⠀⠀⠀⠀⠀⠀⠀⠀⠀⠀⠀⠀⠀⠀⠀⠀⠀⠀⠀⠀⠀⠀⠀⠀⠀⠀⠀⠀⠀⠀\u001b[38;5;8m⠀\u001b[0m\n",
       "    \u001b[38;5;8m⠀\u001b[0m⠀⠀⠀⠀⠀⠀⠀⠀⠀⠀⠀⠀⠀⠀⠀⠀⠀⠀⠀⠀⠀⠀⠀⠀⠀⠀⠀⠀⠀⠀⠀⠀⠀⠀⠀⠀⠀⠀⠀⠀⠀⠀⠀⠀⠀⠀⠀⠀⠀⠀\u001b[38;5;8m⠀\u001b[0m\n",
       "    \u001b[38;5;8m⠀\u001b[0m⠀⠀⠀⠀⠀⠀⠀⠀⠀⠀⠀⠀⠀⠀⠀⠀⠀⠀⠀⠀⠀⠀⠀⠀⠀⠀⠀⠀⠀⠀⠀⠀⠀⠀⠀⠀⠀⠀⠀⠀⠀⠀⠀⠀⠀⠀⠀⠀⠀⠀\u001b[38;5;8m⠀\u001b[0m\n",
       "    \u001b[38;5;8m⠀\u001b[0m⠀⠀⠀⠀⠀⠀⠀⠀⠀⠀⠀⠀⠀⠀⠀⠀⠀⠀⠀⠀⠀⠀⠀⠀⠀⠀⠀⠀⠀⠀⠀⠀⠀⠀⠀⠀⠀⠀⠀⠀⠀⠀⠀mps₄⠀⠀⠀\u001b[38;5;8m⠀\u001b[0m\n",
       "    \u001b[38;5;8m⠀\u001b[0m⠀⠀⠀⠀⠀⠀⠀⠀⠀⠀⠀⠀⠀⠀⠀⠀⠀⠀⠀⠀⠀⠀⠀⠀⠀⠀⠀⠀⠀⠀⠀⠀⠀⠀⠀⠀⠀⠀⠀⠀⠀\u001b[38;5;4m⢀\u001b[0m\u001b[38;5;4m⡠\u001b[0m\u001b[38;5;4m⠔\u001b[0m\u001b[38;5;4m⠉\u001b[0m\u001b[38;5;4m⢸\u001b[0m⠀⠀⠀⠀\u001b[38;5;8m⠀\u001b[0m\n",
       "    \u001b[38;5;8m⠀\u001b[0m⠀⠀⠀⠀⠀⠀⠀⠀⠀⠀⠀⠀⠀⠀⠀⠀⠀⠀⠀⠀⠀⠀⠀⠀⠀⠀⠀⠀⠀⠀⠀⠀⠀⠀⠀⠀⠀⠀\u001b[38;5;4m⢀\u001b[0m2\u001b[38;5;4m⠒\u001b[0m\u001b[38;5;4m⠁\u001b[0m⠀⠀⠀\u001b[38;5;4m⢸\u001b[0m⠀⠀⠀⠀\u001b[38;5;8m⠀\u001b[0m\n",
       "    \u001b[38;5;8m⠀\u001b[0m⠀⠀⠀⠀⠀⠀⠀⠀⠀⠀⠀⠀⠀⠀⠀⠀⠀⠀⠀⠀⠀⠀⠀⠀⠀⠀⠀⠀⠀⠀⠀⠀⠀⠀⠀\u001b[38;5;4m⣀\u001b[0m\u001b[38;5;4m⠔\u001b[0m\u001b[38;5;4m⠊\u001b[0m\u001b[38;5;4m⠁\u001b[0m⠀⠀⠀⠀⠀⠀2⠀⠀⠀⠀\u001b[38;5;8m⠀\u001b[0m\n",
       "    \u001b[38;5;8m⠀\u001b[0m⠀⠀⠀⠀⠀⠀⠀⠀⠀⠀⠀⠀⠀⠀⠀⠀⠀⠀⠀⠀⠀⠀⠀⠀⠀⠀⠀⠀⠀⠀mps₃\u001b[38;5;4m⠉\u001b[0m⠀⠀⠀⠀⠀⠀⠀⠀⠀⠀\u001b[38;5;4m⢸\u001b[0m⠀⠀⠀⠀\u001b[38;5;8m⠀\u001b[0m\n",
       "    \u001b[38;5;8m⠀\u001b[0m⠀⠀⠀⠀⠀⠀⠀⠀⠀⠀⠀⠀⠀⠀⠀⠀⠀⠀⠀⠀⠀⠀⠀⠀⠀⠀⠀⠀\u001b[38;5;4m⢄\u001b[0m\u001b[38;5;4m⠠\u001b[0m\u001b[38;5;4m⠒\u001b[0m\u001b[38;5;4m⠁\u001b[0m\u001b[38;5;4m⡇\u001b[0m⠀⠀⠀⠀⠀⠀⠀⠀⠀⠀⠀⠀\u001b[38;5;4m⢸\u001b[0m⠀⠀⠀⠀\u001b[38;5;8m⠀\u001b[0m\n",
       "    \u001b[38;5;8m⠀\u001b[0m⠀⠀⠀⠀⠀⠀⠀⠀⠀⠀⠀⠀⠀⠀⠀⠀⠀⠀⠀⠀⠀⠀⠀⠀⠀\u001b[38;5;4m⣀\u001b[0m\u001b[38;5;4m⠔\u001b[0m\u001b[38;5;4m⠊\u001b[0m\u001b[38;5;4m⠁\u001b[0m⠀⠀⠀\u001b[38;5;4m⡇\u001b[0m⠀⠀⠀⠀⠀⠀⠀⠀⠀⠀⠀⠀\u001b[38;5;4m⢸\u001b[0m⠀⠀⠀⠀\u001b[38;5;8m⠀\u001b[0m\n",
       "    \u001b[38;5;8m⠀\u001b[0m⠀⠀⠀⠀⠀⠀⠀⠀⠀⠀⠀⠀⠀⠀⠀⠀⠀⠀⠀⠀⠀\u001b[38;5;4m⢀\u001b[0m\u001b[38;5;4m⡠\u001b[0m\u001b[38;5;4m⠔\u001b[0m2⠀⠀⠀⠀⠀⠀⠀2⠀⠀⠀⠀⠀⠀⠀⠀⠀⠀⠀⠀\u001b[38;5;4m⠈\u001b[0m⠀⠀⠀⠀\u001b[38;5;8m⠀\u001b[0m\n",
       "    \u001b[38;5;8m⠀\u001b[0m⠀⠀⠀⠀⠀⠀⠀⠀⠀⠀⠀⠀⠀⠀⠀⠀⠀⠀\u001b[38;5;4m⢀\u001b[0m\u001b[38;5;4m⠤\u001b[0m\u001b[38;5;4m⠒\u001b[0m\u001b[38;5;4m⠁\u001b[0m⠀⠀⠀⠀⠀⠀⠀⠀⠀⠀\u001b[38;5;4m⡇\u001b[0m⠀⠀⠀⠀⠀⠀⠀⠀⠀⠀⠀⠀⠀⠀⠀⠀⠀\u001b[38;5;8m⠀\u001b[0m\n",
       "    \u001b[38;5;8m⠀\u001b[0m⠀⠀⠀⠀⠀⠀⠀⠀⠀⠀⠀⠀⠀⠀⠀mps₂⠀⠀⠀⠀⠀⠀⠀⠀⠀⠀⠀⠀⠀\u001b[38;5;4m⡇\u001b[0m⠀⠀⠀⠀⠀⠀⠀⠀⠀⠀⠀⠀⠀⠀⠀⠀⠀\u001b[38;5;8m⠀\u001b[0m\n",
       "    \u001b[38;5;8m⠀\u001b[0m⠀⠀⠀⠀⠀⠀⠀⠀⠀⠀⠀\u001b[38;5;4m⢀\u001b[0m\u001b[38;5;4m⡠\u001b[0m\u001b[38;5;4m⠔\u001b[0m\u001b[38;5;4m⠉\u001b[0m⠀⠀\u001b[38;5;4m⢸\u001b[0m⠀⠀⠀⠀⠀⠀⠀⠀⠀⠀⠀⠀⠀⠀\u001b[38;5;4m⡇\u001b[0m⠀⠀⠀⠀⠀⠀⠀⠀⠀⠀⠀⠀⠀⠀⠀⠀⠀\u001b[38;5;8m⠀\u001b[0m\n",
       "    \u001b[38;5;8m⠀\u001b[0m⠀⠀⠀⠀⠀⠀⠀⠀\u001b[38;5;4m⢀\u001b[0m\u001b[38;5;4m⠤\u001b[0m2\u001b[38;5;4m⠁\u001b[0m⠀⠀⠀⠀⠀\u001b[38;5;4m⢸\u001b[0m⠀⠀⠀⠀⠀⠀⠀⠀⠀⠀⠀⠀⠀⠀\u001b[38;5;4m⠁\u001b[0m⠀⠀⠀⠀⠀⠀⠀⠀⠀⠀⠀⠀⠀⠀⠀⠀⠀\u001b[38;5;8m⠀\u001b[0m\n",
       "    \u001b[38;5;8m⠀\u001b[0m⠀⠀⠀⠀⠀\u001b[38;5;4m⣀\u001b[0m\u001b[38;5;4m⠤\u001b[0m\u001b[38;5;4m⠊\u001b[0m\u001b[38;5;4m⠁\u001b[0m⠀⠀⠀⠀⠀⠀⠀⠀2⠀⠀⠀⠀⠀⠀⠀⠀⠀⠀⠀⠀⠀⠀⠀⠀⠀⠀⠀⠀⠀⠀⠀⠀⠀⠀⠀⠀⠀⠀⠀⠀\u001b[38;5;8m⠀\u001b[0m\n",
       "    \u001b[38;5;8m⠀\u001b[0m⠀⠀mps₁⠀⠀⠀⠀⠀⠀⠀⠀⠀⠀⠀\u001b[38;5;4m⢸\u001b[0m⠀⠀⠀⠀⠀⠀⠀⠀⠀⠀⠀⠀⠀⠀⠀⠀⠀⠀⠀⠀⠀⠀⠀⠀⠀⠀⠀⠀⠀⠀⠀⠀\u001b[38;5;8m⠀\u001b[0m\n",
       "    \u001b[38;5;8m⠀\u001b[0m⠀⠀⠀⠀\u001b[38;5;4m⡇\u001b[0m⠀⠀⠀⠀⠀⠀⠀⠀⠀⠀⠀⠀\u001b[38;5;4m⢸\u001b[0m⠀⠀⠀⠀⠀⠀⠀⠀⠀⠀⠀⠀⠀⠀⠀⠀⠀⠀⠀⠀⠀⠀⠀⠀⠀⠀⠀⠀⠀⠀⠀⠀\u001b[38;5;8m⠀\u001b[0m\n",
       "    \u001b[38;5;8m⠀\u001b[0m⠀⠀⠀⠀\u001b[38;5;4m⡇\u001b[0m⠀⠀⠀⠀⠀⠀⠀⠀⠀⠀⠀⠀\u001b[38;5;4m⠘\u001b[0m⠀⠀⠀⠀⠀⠀⠀⠀⠀⠀⠀⠀⠀⠀⠀⠀⠀⠀⠀⠀⠀⠀⠀⠀⠀⠀⠀⠀⠀⠀⠀⠀\u001b[38;5;8m⠀\u001b[0m\n",
       "    \u001b[38;5;8m⠀\u001b[0m⠀⠀⠀⠀2⠀⠀⠀⠀⠀⠀⠀⠀⠀⠀⠀⠀⠀⠀⠀⠀⠀⠀⠀⠀⠀⠀⠀⠀⠀⠀⠀⠀⠀⠀⠀⠀⠀⠀⠀⠀⠀⠀⠀⠀⠀⠀⠀⠀⠀\u001b[38;5;8m⠀\u001b[0m\n",
       "    \u001b[38;5;8m⠀⠀⠀⠀⠀⠀⠀⠀⠀⠀⠀⠀⠀⠀⠀⠀⠀⠀⠀⠀⠀⠀⠀⠀⠀⠀⠀⠀⠀⠀⠀⠀⠀⠀⠀⠀⠀⠀⠀⠀⠀⠀⠀⠀⠀⠀⠀⠀⠀⠀⠀⠀\u001b[0m"
      ]
     },
     "metadata": {},
     "output_type": "display_data"
    },
    {
     "name": "stdout",
     "output_type": "stream",
     "text": [
      "site 1\n",
      "--------------------------------------------------\n",
      "mps[n] = ITensor ord=2\n",
      "Dim 1: (dim=2|id=896|\"Qubit,Site,n=1\")\n",
      "Dim 2: (dim=2|id=872|\"Link,l=1\")\n",
      "NDTensors.Dense{Float64, Vector{Float64}}\n",
      " 2×2\n",
      " 1.0  0.0\n",
      " 0.0  1.0\n",
      "site 2\n",
      "--------------------------------------------------\n",
      "mps[n] = ITensor ord=3\n",
      "Dim 1: (dim=2|id=872|\"Link,l=1\")\n",
      "Dim 2: (dim=2|id=527|\"Qubit,Site,n=2\")\n",
      "Dim 3: (dim=2|id=529|\"Link,l=2\")\n",
      "NDTensors.Dense{Float64, Vector{Float64}}\n",
      " 2×2×2\n",
      "[:, :, 1] =\n",
      " 1.0  0.0\n",
      " 0.0  0.0\n",
      "\n",
      "[:, :, 2] =\n",
      " 0.0  0.0\n",
      " 0.0  1.0\n",
      "site 3\n",
      "--------------------------------------------------\n",
      "mps[n] = ITensor ord=3\n",
      "Dim 1: (dim=2|id=529|\"Link,l=2\")\n",
      "Dim 2: (dim=2|id=900|\"Qubit,Site,n=3\")\n",
      "Dim 3: (dim=2|id=702|\"Link,l=3\")\n",
      "NDTensors.Dense{Float64, Vector{Float64}}\n",
      " 2×2×2\n",
      "[:, :, 1] =\n",
      " 1.0  0.0\n",
      " 0.0  0.0\n",
      "\n",
      "[:, :, 2] =\n",
      " 0.0  0.0\n",
      " 0.0  1.0\n",
      "site 4\n",
      "--------------------------------------------------\n",
      "mps[n] = ITensor ord=2\n",
      "Dim 1: (dim=2|id=702|\"Link,l=3\")\n",
      "Dim 2: (dim=2|id=492|\"Qubit,Site,n=4\")\n",
      "NDTensors.Dense{Float64, Vector{Float64}}\n",
      " 2×2\n",
      " 1.0  0.0\n",
      " 0.0  1.0\n"
     ]
    },
    {
     "data": {
      "text/plain": [
       "MPS\n",
       "[1] ((dim=2|id=896|\"Qubit,Site,n=1\"), (dim=2|id=872|\"Link,l=1\"))\n",
       "[2] ((dim=2|id=872|\"Link,l=1\"), (dim=2|id=527|\"Qubit,Site,n=2\"), (dim=2|id=529|\"Link,l=2\"))\n",
       "[3] ((dim=2|id=529|\"Link,l=2\"), (dim=2|id=900|\"Qubit,Site,n=3\"), (dim=2|id=702|\"Link,l=3\"))\n",
       "[4] ((dim=2|id=702|\"Link,l=3\"), (dim=2|id=492|\"Qubit,Site,n=4\"))\n"
      ]
     },
     "execution_count": 5,
     "metadata": {},
     "output_type": "execute_result"
    }
   ],
   "source": [
    "println(\"-\"^80)\n",
    "println(\"MPS form of GHZ state\")\n",
    "println(\"-\"^80)\n",
    "@visualize mps\n",
    "for n in range(1, stop=n)\n",
    "    println(\"site $n\")\n",
    "    println(\"-\"^50)\n",
    "    @show mps[n]\n",
    "end\n",
    "mps1 = mps"
   ]
  },
  {
   "cell_type": "markdown",
   "id": "f58343d0-66bb-48d7-ad6c-7c6018854107",
   "metadata": {},
   "source": [
    "## MPS via ITensors string array constructor\n",
    "ITensor can also create an MPS by giving an array of string, where each string identifies a state on a site. Thus we will create an MPS for the $|0000\\rangle$ state and one for the $|1111\\rangle$ state and add them."
   ]
  },
  {
   "cell_type": "code",
   "execution_count": 6,
   "id": "dfbbe7a6-1955-415e-9e30-8fdd6b29cad3",
   "metadata": {},
   "outputs": [
    {
     "data": {
      "text/plain": [
       "MPS\n",
       "[1] ((dim=2|id=896|\"Qubit,Site,n=1\"), (dim=2|id=380|\"Link,l=1\"))\n",
       "[2] ((dim=2|id=527|\"Qubit,Site,n=2\"), (dim=2|id=660|\"Link,l=2\"), (dim=2|id=380|\"Link,l=1\"))\n",
       "[3] ((dim=2|id=900|\"Qubit,Site,n=3\"), (dim=2|id=989|\"Link,l=3\"), (dim=2|id=660|\"Link,l=2\"))\n",
       "[4] ((dim=2|id=492|\"Qubit,Site,n=4\"), (dim=2|id=989|\"Link,l=3\"))\n"
      ]
     },
     "execution_count": 6,
     "metadata": {},
     "output_type": "execute_result"
    }
   ],
   "source": [
    "states_up = fill(\"Up\",n) # fill creates an array of n elements with the value \"Up\"\n",
    "states_dn = fill(\"Dn\",n) # fill creates an array of n elements with the value \"Dn\"\n",
    "mps_up = MPS(s,states_up)\n",
    "mps_dn = MPS(s,states_dn)\n",
    "mps2 = mps_up + mps_dn"
   ]
  },
  {
   "cell_type": "code",
   "execution_count": null,
   "id": "64cbfa16-db02-4136-b8bb-7a20adf00726",
   "metadata": {},
   "outputs": [],
   "source": []
  },
  {
   "cell_type": "markdown",
   "id": "b6cc929d-a52f-4d63-8196-1d7a692f7bb9",
   "metadata": {},
   "source": [
    "## Evaluation\n",
    "Now we try to evaluate our created MPS `mps1` and `mps2`"
   ]
  },
  {
   "cell_type": "code",
   "execution_count": 7,
   "id": "e12fa921-e186-4db6-b8cd-a7b67289c791",
   "metadata": {},
   "outputs": [
    {
     "name": "stdout",
     "output_type": "stream",
     "text": [
      "overlap of mps1 and mps2: 0.9999999999999998\n",
      "mps are close to each other: true\n"
     ]
    }
   ],
   "source": [
    "# Overlap between mps1 and mps2\n",
    "mps1_ = normalize(mps1)\n",
    "mps2_ = normalize(mps2)\n",
    "overlap = inner(mps1_, mps2_)\n",
    "\n",
    "println(\"overlap of mps1 and mps2: \", overlap)\n",
    "println(\"mps are close to each other: \", isapprox(overlap, 1.0))"
   ]
  },
  {
   "cell_type": "markdown",
   "id": "340d7046-e903-493d-94e2-dea32ce9dc04",
   "metadata": {},
   "source": [
    "Now lets contract the MPSs and have a look at the corresponding tensor in the computational basis which as we know should be:\n",
    "$$|\\mathrm{GHZ}\\rangle =  \\begin{pmatrix} 1 \\\\ 0 \\\\ \\vdots \\\\ 0 \\\\ 1 \\end{pmatrix} \\in \\mathbb{C}^{16} $$"
   ]
  },
  {
   "cell_type": "code",
   "execution_count": 8,
   "id": "a0204391-3d85-4a9c-bfd7-b3a65f3d0a32",
   "metadata": {},
   "outputs": [
    {
     "name": "stdout",
     "output_type": "stream",
     "text": [
      "combined_ket1 = ITensor ord=1\n",
      "Dim 1: (dim=16|id=699|\"CMB,Link\")\n",
      "NDTensors.Dense{Float64, Vector{Float64}}\n",
      " 16-element\n",
      " 1.0\n",
      " 0.0\n",
      " 0.0\n",
      " 0.0\n",
      " 0.0\n",
      " 0.0\n",
      " 0.0\n",
      " 0.0\n",
      " 0.0\n",
      " 0.0\n",
      " 0.0\n",
      " 0.0\n",
      " 0.0\n",
      " 0.0\n",
      " 0.0\n",
      " 1.0\n"
     ]
    },
    {
     "data": {
      "text/plain": [
       "ITensor ord=1 (dim=16|id=699|\"CMB,Link\")\n",
       "NDTensors.Dense{Float64, Vector{Float64}}"
      ]
     },
     "execution_count": 8,
     "metadata": {},
     "output_type": "execute_result"
    }
   ],
   "source": [
    "ket1 = contract(mps1)\n",
    "C = combiner(inds(ket1))\n",
    "combined_ket1 = C * ket1\n",
    "@show combined_ket1\n"
   ]
  },
  {
   "cell_type": "code",
   "execution_count": 9,
   "id": "30dcefac-97e7-499d-9e9b-db6cd7d7f492",
   "metadata": {},
   "outputs": [
    {
     "name": "stdout",
     "output_type": "stream",
     "text": [
      "combined_ket2 = ITensor ord=1\n",
      "Dim 1: (dim=16|id=681|\"CMB,Link\")\n",
      "NDTensors.Dense{Float64, Vector{Float64}}\n",
      " 16-element\n",
      " 1.0\n",
      " 0.0\n",
      " 0.0\n",
      " 0.0\n",
      " 0.0\n",
      " 0.0\n",
      " 0.0\n",
      " 0.0\n",
      " 0.0\n",
      " 0.0\n",
      " 0.0\n",
      " 0.0\n",
      " 0.0\n",
      " 0.0\n",
      " 0.0\n",
      " 1.0\n"
     ]
    },
    {
     "data": {
      "text/plain": [
       "ITensor ord=1 (dim=16|id=681|\"CMB,Link\")\n",
       "NDTensors.Dense{Float64, Vector{Float64}}"
      ]
     },
     "execution_count": 9,
     "metadata": {},
     "output_type": "execute_result"
    }
   ],
   "source": [
    "ket2 = contract(mps2)\n",
    "C = combiner(inds(ket2))\n",
    "combined_ket2 = C * ket2\n",
    "@show combined_ket2\n"
   ]
  },
  {
   "cell_type": "markdown",
   "id": "c4422943-fdaf-440c-b75b-166316721eb1",
   "metadata": {},
   "source": [
    "As we see both MPS equal our GHZ-state!"
   ]
  },
  {
   "cell_type": "code",
   "execution_count": null,
   "id": "3af79464-87e1-49f1-bcd5-bce68ababfb0",
   "metadata": {},
   "outputs": [],
   "source": []
  }
 ],
 "metadata": {
  "kernelspec": {
   "display_name": "Julia 1.6.6",
   "language": "julia",
   "name": "julia-1.6"
  },
  "language_info": {
   "file_extension": ".jl",
   "mimetype": "application/julia",
   "name": "julia",
   "version": "1.6.6"
  }
 },
 "nbformat": 4,
 "nbformat_minor": 5
}
